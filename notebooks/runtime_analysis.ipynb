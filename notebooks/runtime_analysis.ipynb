{
 "cells": [
  {
   "cell_type": "code",
   "execution_count": 1,
   "metadata": {},
   "outputs": [],
   "source": [
    "import pandas as pd"
   ]
  },
  {
   "cell_type": "code",
   "execution_count": null,
   "metadata": {},
   "outputs": [],
   "source": [
    "df = pd.read_json(\"./runtimes/toxicainment_videos_log.jsonl\", lines=True)\n",
    "df.head(2)"
   ]
  },
  {
   "cell_type": "code",
   "execution_count": null,
   "metadata": {},
   "outputs": [],
   "source": [
    "cdf = (\n",
    "    df.groupby(\"Run_ID\", as_index=False)[\"Timestamp\"]\n",
    "    .min()\n",
    "    .sort_values(\"Timestamp\")\n",
    "    .assign(concurrency=[1, 4, 16, 50, 8, 2, 32, 12])\n",
    ")\n",
    "cdf"
   ]
  },
  {
   "cell_type": "code",
   "execution_count": 4,
   "metadata": {},
   "outputs": [],
   "source": [
    "begin = df.groupby(\"Run_ID\", as_index=False).agg(\n",
    "    t0=(\"Timestamp\", \"first\"), d0=(\"Total_Runtime\", \"first\")\n",
    ")\n",
    "df = pd.merge(df, begin, on=\"Run_ID\", how=\"left\").assign(\n",
    "    tx=lambda df: (df[\"Timestamp\"] - df[\"t0\"]).dt.total_seconds() + df[\"d0\"]\n",
    ")"
   ]
  },
  {
   "cell_type": "code",
   "execution_count": null,
   "metadata": {},
   "outputs": [],
   "source": [
    "df = pd.merge(df, cdf[[\"Run_ID\", \"concurrency\"]], on=\"Run_ID\", how=\"left\")\n",
    "df.head(2)"
   ]
  },
  {
   "cell_type": "code",
   "execution_count": null,
   "metadata": {},
   "outputs": [],
   "source": [
    "sdf = df.groupby(\"concurrency\", as_index=False).agg(\n",
    "    avg_runtime=(\"Total_Runtime\", \"mean\"),\n",
    "    total_runtime=(\"Total_Runtime\", \"sum\"),\n",
    "    first_response=(\"Total_Runtime\", \"first\"),\n",
    "    n_requests=(\"Total_Runtime\", \"count\"),\n",
    ")\n",
    "sdf"
   ]
  },
  {
   "cell_type": "code",
   "execution_count": null,
   "metadata": {},
   "outputs": [],
   "source": [
    "import seaborn as sns\n",
    "\n",
    "sns.scatterplot(data=df, x=\"tx\", y=\"Total_Runtime\", hue=\"concurrency\", hue_norm=None, palette=\"deep\")"
   ]
  },
  {
   "cell_type": "code",
   "execution_count": null,
   "metadata": {},
   "outputs": [],
   "source": [
    "ax = sns.scatterplot(sdf, x=\"concurrency\", y=\"total_runtime\")\n",
    "ax.grid(alpha=0.5)\n",
    "ax.set_ylim(0, None)"
   ]
  }
 ],
 "metadata": {
  "kernelspec": {
   "display_name": "venv",
   "language": "python",
   "name": "python3"
  },
  "language_info": {
   "codemirror_mode": {
    "name": "ipython",
    "version": 3
   },
   "file_extension": ".py",
   "mimetype": "text/x-python",
   "name": "python",
   "nbconvert_exporter": "python",
   "pygments_lexer": "ipython3",
   "version": "3.11.9"
  }
 },
 "nbformat": 4,
 "nbformat_minor": 2
}
