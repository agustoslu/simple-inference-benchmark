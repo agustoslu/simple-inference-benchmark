{
 "cells": [
  {
   "cell_type": "code",
   "execution_count": 1,
   "metadata": {},
   "outputs": [],
   "source": [
    "%load_ext autoreload\n",
    "%autoreload 2"
   ]
  },
  {
   "cell_type": "code",
   "execution_count": null,
   "metadata": {},
   "outputs": [],
   "source": [
    "from bench_lib.evaluation import benchmark_results_folder\n",
    "\n",
    "rfolder = benchmark_results_folder()\n",
    "folders = [\n",
    "    # \"gemma-3-4b-it\",\n",
    "    # \"gemma-3-12b-it\",\n",
    "    # \"gemma-3-27b-it_00\",\n",
    "    \"qwen-2.5-vl\",\n",
    "    \"gemini-2.5-pro-noschema\",\n",
    "]\n",
    "files = [str(rfolder / f / \"toxicainment_videos_log.jsonl\") for f in folders]"
   ]
  },
  {
   "cell_type": "code",
   "execution_count": 3,
   "metadata": {},
   "outputs": [],
   "source": [
    "import duckdb\n",
    "\n",
    "con = duckdb.connect()\n",
    "query = f\"SELECT * FROM read_json({files})\"\n",
    "df = con.sql(query).df()"
   ]
  },
  {
   "cell_type": "code",
   "execution_count": null,
   "metadata": {},
   "outputs": [],
   "source": [
    "df.head(2)"
   ]
  },
  {
   "cell_type": "code",
   "execution_count": null,
   "metadata": {},
   "outputs": [],
   "source": [
    "agg_df = (\n",
    "    df.groupby(\"Model ID\", as_index=False)\n",
    "    .agg(\n",
    "        avg_total_runtime=(\"Total_Runtime\", \"mean\"),\n",
    "        avg_model_runtime=(\"Model_Runtime\", \"mean\"),\n",
    "        avg_tokens_generated=(\"Tokens_Generated\", \"mean\"),\n",
    "        avg_peak_memory_alloc=(\"Peak_Memory_Allocated\", \"mean\"),\n",
    "        avg_peak_memory_reserved=(\"Peak_Memory_Reserved\", \"mean\"),\n",
    "        avg_total_frames=(\"Total_Frames\", \"mean\"),\n",
    "    )\n",
    "    .sort_values(\"avg_model_runtime\", ascending=False)\n",
    "    .round(2)\n",
    ")\n",
    "agg_df"
   ]
  },
  {
   "cell_type": "markdown",
   "metadata": {},
   "source": [
    "# Runtime Plots"
   ]
  },
  {
   "cell_type": "code",
   "execution_count": 6,
   "metadata": {},
   "outputs": [],
   "source": [
    "from bench_lib.evaluation import visualize_runtime\n",
    "\n",
    "\n",
    "fig, _ = visualize_runtime(\n",
    "    df.query(\"`Model ID`.str.contains('gemma')\"), hue=\"Model ID\", plot_colorbar=False\n",
    ")\n",
    "fig.savefig(\"imgs/runtime_scatter_g3_by_model.pdf\", bbox_inches=\"tight\")"
   ]
  },
  {
   "cell_type": "code",
   "execution_count": 7,
   "metadata": {},
   "outputs": [],
   "source": [
    "fig, _ = visualize_runtime(df.query(\"`Model ID`.str.contains('gemma')\"))\n",
    "fig.savefig(\"imgs/runtime_scatter_g3_by_frames.pdf\", bbox_inches=\"tight\")"
   ]
  },
  {
   "cell_type": "code",
   "execution_count": 8,
   "metadata": {},
   "outputs": [],
   "source": [
    "fig, _ = visualize_runtime(\n",
    "    df.query(\"`Model ID`.str.contains('Qwen')\"), hue=\"Model ID\", plot_colorbar=False\n",
    ")\n",
    "fig.savefig(\"imgs/runtime_scatter_qwenvl_by_model.pdf\", bbox_inches=\"tight\")"
   ]
  },
  {
   "cell_type": "code",
   "execution_count": 9,
   "metadata": {},
   "outputs": [],
   "source": [
    "fig, _ = visualize_runtime(df.query(\"`Model ID`.str.contains('Qwen')\"))\n",
    "fig.savefig(\"imgs/runtime_scatter_qwenvl_by_frames.pdf\", bbox_inches=\"tight\")"
   ]
  },
  {
   "cell_type": "code",
   "execution_count": null,
   "metadata": {},
   "outputs": [],
   "source": [
    "df.query(\"`Model ID`.str.contains('gemini')\")[\"Total_Runtime\"].describe()"
   ]
  },
  {
   "cell_type": "markdown",
   "metadata": {},
   "source": [
    "# Memory Plots"
   ]
  },
  {
   "cell_type": "code",
   "execution_count": null,
   "metadata": {},
   "outputs": [],
   "source": [
    "agg_df"
   ]
  },
  {
   "cell_type": "code",
   "execution_count": null,
   "metadata": {},
   "outputs": [],
   "source": [
    "import pandas as pd\n",
    "from bench_lib.evaluation import Cols\n",
    "import numpy as np\n",
    "\n",
    "# Extract model size from model ID\n",
    "mem_df = agg_df.dropna()\n",
    "mem_df = mem_df.assign(\n",
    "    model_size=mem_df[\"Model ID\"].str.lower().str.extract(r\"-(\\d*)[b-]-\").astype(int),\n",
    "    group=np.where(mem_df[Cols.model_id].str.contains(\"gemma\"), \"Gemma-3\", \"Qwen2.5-VL\")\n",
    ")\n",
    "mem_df = mem_df[\n",
    "    [\"Model ID\", \"avg_peak_memory_alloc\", \"model_size\", \"group\"]\n",
    "]\n",
    "# Qwen 72B needed 2 to 3 H100 à 96GB each\n",
    "qwen_72b_mem = 2.5 * 96\n",
    "mem_df.loc[mem_df[\"Model ID\"].str.contains(\"72B\"), \"avg_peak_memory_alloc\"] = qwen_72b_mem\n",
    "mem_df"
   ]
  },
  {
   "cell_type": "code",
   "execution_count": null,
   "metadata": {},
   "outputs": [],
   "source": [
    "import seaborn as sns\n",
    "import matplotlib.pyplot as plt\n",
    "\n",
    "fig = plt.figure(figsize=(4, 4))\n",
    "ax = fig.add_subplot(111)\n",
    "ax = sns.scatterplot(data=mem_df, x=\"model_size\", y=\"avg_peak_memory_alloc\", hue=\"group\", ax=ax)\n",
    "ax.set(ylabel=\"Peak GPU Memory Allocated (GB)\", xlabel=\"Model Params (Billions)\")\n",
    "ax.set_xscale('log')\n",
    "ax.set_yscale('log')\n",
    "ax.grid(True, alpha=0.5)\n",
    "xticks = [1, 2, 3, 5, 10, 20, 50, 100]\n",
    "yticks = [3 * x for x in xticks]\n",
    "ax.set_xticks(xticks)\n",
    "ax.set_xticklabels(xticks)\n",
    "ax.set_yticks(yticks)\n",
    "ax.set_yticklabels(yticks)\n",
    "ax.legend(title=\"Model Family\", loc=\"upper left\", bbox_to_anchor=(1, 1))\n",
    "fig.savefig(\"imgs/mem_alloc_by_model.pdf\", bbox_inches=\"tight\")"
   ]
  }
 ],
 "metadata": {
  "kernelspec": {
   "display_name": "venv",
   "language": "python",
   "name": "python3"
  },
  "language_info": {
   "codemirror_mode": {
    "name": "ipython",
    "version": 3
   },
   "file_extension": ".py",
   "mimetype": "text/x-python",
   "name": "python",
   "nbconvert_exporter": "python",
   "pygments_lexer": "ipython3",
   "version": "3.11.9"
  }
 },
 "nbformat": 4,
 "nbformat_minor": 2
}
