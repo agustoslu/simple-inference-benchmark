{
 "cells": [
  {
   "cell_type": "code",
   "execution_count": 1,
   "metadata": {},
   "outputs": [],
   "source": [
    "%reload_ext autoreload\n",
    "%autoreload 2"
   ]
  },
  {
   "cell_type": "code",
   "execution_count": null,
   "metadata": {},
   "outputs": [],
   "source": [
    "from bench_lib.evaluation import compute_agreement_score, load_human_labels\n",
    "from bench_lib.utils import enable_info_logs\n",
    "import pandas as pd\n",
    "\n",
    "enable_info_logs()\n",
    "\n",
    "human_labels, questions, comment_cols = load_human_labels()\n",
    "human_labels_long = pd.melt(\n",
    "    human_labels, id_vars=[\"post_id\", \"classification_by\"], value_vars=questions\n",
    ")\n",
    "human_consistency_df = compute_agreement_score(human_labels_long)\n",
    "human_consistency_df.head(2)"
   ]
  },
  {
   "cell_type": "markdown",
   "metadata": {},
   "source": [
    "from bench_lib.evaluation import benchmark_results_folder, check_self_consistency\n",
    "\n",
    "\n",
    "folder = \"self-consistency\"\n",
    "csv = benchmark_results_folder() / folder / \"model_labels.csv\"\n",
    "flip_counts_all, consistency_score = check_self_consistency(\n",
    "    csv_paths=[str(csv)],\n",
    "    model_to_check=\"google/gemma-3-27b-it\",\n",
    "    n_runs=5,\n",
    ")"
   ]
  },
  {
   "cell_type": "code",
   "execution_count": null,
   "metadata": {},
   "outputs": [],
   "source": [
    "from bench_lib.evaluation import load_ai_labels\n",
    "\n",
    "folder = \"self-consistency\"\n",
    "ai_labels_long = load_ai_labels([folder], questions, comment_cols)\n",
    "ai_labels_long.head(2)"
   ]
  },
  {
   "cell_type": "code",
   "execution_count": null,
   "metadata": {},
   "outputs": [],
   "source": [
    "from bench_lib.evaluation import agreement_score\n",
    "\n",
    "\n",
    "ai_agreement_df = compute_agreement_score(\n",
    "    ai_labels_long, groupby=[\"post_id\", \"Model ID\", \"variable\"]\n",
    ")\n",
    "ai_agreement_df.head(2)"
   ]
  },
  {
   "cell_type": "code",
   "execution_count": null,
   "metadata": {},
   "outputs": [],
   "source": [
    "import pandas as pd\n",
    "\n",
    "joint_consistency = pd.merge(\n",
    "    ai_agreement_df,\n",
    "    human_consistency_df,\n",
    "    on=[\"post_id\", \"variable\"],\n",
    "    how=\"left\",\n",
    "    suffixes=(\"_ai\", \"_human\"),\n",
    ")\n",
    "joint_consistency.head(2)"
   ]
  },
  {
   "cell_type": "code",
   "execution_count": null,
   "metadata": {},
   "outputs": [],
   "source": [
    "large_model = [\"google/gemma-3-27b-it\", \"Qwen/Qwen2.5-VL-72B-Instruct\"]\n",
    "joint_consistency.query(\"`Model ID` in @large_model\").groupby([\"Model ID\"]).agg(\n",
    "    agreement_score_human=(\"agreement_score_human\", \"mean\"),\n",
    "    agreement_score_ai=(\"agreement_score_ai\", \"mean\"),\n",
    ")"
   ]
  },
  {
   "cell_type": "markdown",
   "metadata": {},
   "source": [
    "# Plotting"
   ]
  },
  {
   "cell_type": "code",
   "execution_count": null,
   "metadata": {},
   "outputs": [],
   "source": [
    "from matplotlib import pyplot as plt\n",
    "import seaborn as sns\n",
    "\n",
    "\n",
    "def plot_human_ai_agreement_corr(**lm_plot_kwargs) -> plt.Figure:\n",
    "    large_model = [\"google/gemma-3-27b-it\", \"Qwen/Qwen2.5-VL-72B-Instruct\"]\n",
    "    fig = sns.lmplot(\n",
    "        data=joint_consistency.query(\"`Model ID` in @large_model\"),\n",
    "        x=\"agreement_score_human\",\n",
    "        y=\"agreement_score_ai\",\n",
    "        y_jitter=0.02,\n",
    "        x_jitter=0.02,\n",
    "        **lm_plot_kwargs,\n",
    "    )\n",
    "    fig.set_ylabels(\"AI Agreement Score\")\n",
    "    fig.set_xlabels(\"Human Agreement Score\")\n",
    "    for ax in fig.axes.flat:\n",
    "        ax.grid(alpha=0.5)\n",
    "        ax.set_ylim(-0.05, 1.05)\n",
    "    fig\n",
    "    return fig\n",
    "\n",
    "\n",
    "fig = plot_human_ai_agreement_corr()\n",
    "fig.savefig(\"imgs/ai_consistency_by_human_consistency.pdf\", bbox_inches=\"tight\")\n",
    "fig2 = plot_human_ai_agreement_corr(hue=\"variable\", row=\"Model ID\", col=\"variable\")\n",
    "fig2.savefig(\"imgs/ai_consistency_by_human_consistency_disagg.pdf\", bbox_inches=\"tight\")"
   ]
  },
  {
   "cell_type": "code",
   "execution_count": null,
   "metadata": {},
   "outputs": [],
   "source": []
  }
 ],
 "metadata": {
  "kernelspec": {
   "display_name": "venv",
   "language": "python",
   "name": "python3"
  },
  "language_info": {
   "codemirror_mode": {
    "name": "ipython",
    "version": 3
   },
   "file_extension": ".py",
   "mimetype": "text/x-python",
   "name": "python",
   "nbconvert_exporter": "python",
   "pygments_lexer": "ipython3",
   "version": "3.11.9"
  }
 },
 "nbformat": 4,
 "nbformat_minor": 2
}
