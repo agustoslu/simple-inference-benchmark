{
 "cells": [
  {
   "cell_type": "code",
   "execution_count": 1,
   "metadata": {},
   "outputs": [],
   "source": [
    "%reload_ext autoreload\n",
    "%autoreload 2"
   ]
  },
  {
   "cell_type": "code",
   "execution_count": 2,
   "metadata": {},
   "outputs": [],
   "source": [
    "import pandas as pd"
   ]
  },
  {
   "cell_type": "code",
   "execution_count": null,
   "metadata": {},
   "outputs": [],
   "source": [
    "human_labels = pd.read_csv(\n",
    "    \"../dataset/saxony-labeled-data/human-labels.csv\", dtype={\"post_id\": str}\n",
    ")\n",
    "human_labels = (\n",
    "    human_labels.sort_values(by=\"timestamp\")\n",
    "    .rename(\n",
    "        columns={\n",
    "            \"is_saxony_election\": \"is_saxony\",\n",
    "            \"is_saxony_election_comment\": \"is_saxony_comment\",\n",
    "        }\n",
    "    )  # The column name was wrong while saving, but the UI correctly displayed that it does not HAVE to be politics in saxony\n",
    "    .groupby([\"post_id\", \"classification_by\"])\n",
    "    .last()\n",
    "    .reset_index()\n",
    ")\n",
    "print(len(human_labels))\n",
    "# join num raters per post\n",
    "nraters_by_post = (\n",
    "    human_labels.groupby(\"post_id\", as_index=False)[\"classification_by\"]\n",
    "    .agg([\"nunique\"])\n",
    "    .rename(columns={\"nunique\": \"nraters\"})\n",
    ")\n",
    "human_labels = pd.merge(human_labels, nraters_by_post, on=\"post_id\", how=\"left\")\n",
    "human_labels.head()"
   ]
  },
  {
   "cell_type": "code",
   "execution_count": 4,
   "metadata": {},
   "outputs": [],
   "source": [
    "questions = [\n",
    "    \"is_political\",\n",
    "    \"is_saxony\",\n",
    "    \"is_intolerant\",\n",
    "    \"is_hedonic_entertainment\",\n",
    "    \"is_eudaimonic_entertainment\",\n",
    "]\n",
    "comment_cols = [f\"{col}_comment\" for col in questions]\n"
   ]
  },
  {
   "cell_type": "markdown",
   "metadata": {},
   "source": [
    "# Krippendorff's alpha"
   ]
  },
  {
   "cell_type": "code",
   "execution_count": null,
   "metadata": {},
   "outputs": [],
   "source": [
    "import matplotlib.pyplot as plt\n",
    "\n",
    "from bench_lib.evaluation import krippendorf_alpha, plot_krippendorf_alphas\n",
    "\n",
    "\n",
    "alphas = [\n",
    "    krippendorf_alpha(human_labels[\"post_id\"], human_labels[q]) for q in questions\n",
    "]\n",
    "plot_krippendorf_alphas(alphas, questions)"
   ]
  },
  {
   "cell_type": "markdown",
   "metadata": {},
   "source": [
    "# Fleis Kappa"
   ]
  },
  {
   "cell_type": "code",
   "execution_count": null,
   "metadata": {},
   "outputs": [],
   "source": [
    "from bench_lib.evaluation import fleiss_kappa\n",
    "\n",
    "n_raters = 3\n",
    "q = \"is_intolerant\"\n",
    "fk_human_labels = human_labels.query(\"nraters == @n_raters\")\n",
    "table = pd.crosstab(fk_human_labels[\"post_id\"], fk_human_labels[q]).values\n",
    "kp, agreements = fleiss_kappa(table, method=\"fleiss\")\n",
    "ag_counts = pd.Series(agreements).value_counts()\n",
    "print(kp)\n",
    "fig = plt.figure(figsize=(4, 3))\n",
    "plt.bar(ag_counts.index, ag_counts.values, width=0.05)\n",
    "plt.xlim(-0.1, 1.1)\n",
    "plt.xlabel(\"Agreement\")\n",
    "plt.ylabel(\"Count\")\n",
    "plt.title(f\"Agreement for '{q}' with {n_raters} raters. Fleiss Kappa: {kp:.2f}\")\n",
    "plt.tight_layout()\n",
    "plt.show()"
   ]
  },
  {
   "cell_type": "markdown",
   "metadata": {},
   "source": [
    "# Post Difficulty"
   ]
  },
  {
   "cell_type": "code",
   "execution_count": null,
   "metadata": {},
   "outputs": [],
   "source": [
    "from matplotlib import pyplot as plt\n",
    "from bench_lib.evaluation import difficulty_score, get_means\n",
    "\n",
    "q_mens = {q: get_means(human_labels, question=q) for q in questions}\n",
    "difficulty = difficulty_score(pd.DataFrame(q_mens))\n",
    "\n",
    "diff_counts = difficulty.value_counts()\n",
    "fig = plt.figure()\n",
    "plt.bar(diff_counts.index, diff_counts.values, width=0.03)\n",
    "plt.xlabel(\"Difficulty\")\n",
    "plt.ylabel(\"Count\")\n",
    "plt.title(\"Post Difficulty\")\n",
    "plt.tight_layout()"
   ]
  },
  {
   "cell_type": "code",
   "execution_count": null,
   "metadata": {},
   "outputs": [],
   "source": [
    "unique_answers_by_post = (\n",
    "    human_labels.groupby(\"post_id\")[questions].nunique().max(axis=1)\n",
    ")\n",
    "hard_posts = unique_answers_by_post[unique_answers_by_post > 1]\n",
    "easy_posts = unique_answers_by_post[unique_answers_by_post == 1]\n",
    "print(len(hard_posts), len(easy_posts))"
   ]
  },
  {
   "cell_type": "markdown",
   "metadata": {},
   "source": [
    "# How does AI perform on the easy posts?\n",
    "We assume here the ground truth to be the human labels, which are unique by construction"
   ]
  },
  {
   "cell_type": "code",
   "execution_count": null,
   "metadata": {},
   "outputs": [],
   "source": [
    "from bench_lib.evaluation import load_ai_labels, performance_by_category\n",
    "\n",
    "\n",
    "human_labels_easy_set = human_labels.query(\"post_id in @easy_posts.index\")[\n",
    "    [\"post_id\", *questions]\n",
    "].drop_duplicates()\n",
    "human_labels_easy_set\n",
    "\n",
    "#models = [\"gemma-3-4b-it\", \"gemma-3-12b-it\", \"gemma-3-27b-it\", \"MiniCPM-V-2.6\"]\n",
    "folders = [f\"gemma-3-27b-it_{n:02d}\" for n in range(3)]\n",
    "all_ai_labels = load_ai_labels(folders, questions, comment_cols)\n",
    "\n",
    "\n",
    "# performance_by_category(complete_ai_labels, human_labels_easy_set)\n",
    "all_ai_perfs = (\n",
    "    all_ai_labels.groupby(\"model_id\")\n",
    "    .apply(\n",
    "        performance_by_category,\n",
    "        ref_wide=human_labels_easy_set,\n",
    "        questions=questions,\n",
    "        include_groups=False,\n",
    "    )\n",
    "    .reset_index()\n",
    "    .drop(columns=[\"level_1\"])\n",
    ")"
   ]
  },
  {
   "cell_type": "code",
   "execution_count": null,
   "metadata": {},
   "outputs": [],
   "source": [
    "all_ai_labels[\"is_hedonic_entertainment\"].unique()"
   ]
  },
  {
   "cell_type": "code",
   "execution_count": null,
   "metadata": {},
   "outputs": [],
   "source": [
    "import plotly.express as px\n",
    "\n",
    "px.bar(all_ai_perfs, x=\"variable\", y=\"is_correct\", color=\"model_id\", barmode=\"group\")"
   ]
  },
  {
   "cell_type": "code",
   "execution_count": null,
   "metadata": {},
   "outputs": [],
   "source": [
    "from bench_lib.evaluation import join_wides\n",
    "\n",
    "\n",
    "pd.set_option(\"display.max_columns\", 100)\n",
    "pd.set_option(\"display.width\", None)\n",
    "\n",
    "model_id = \"MiniCPM-V-2.6\"\n",
    "q_col = \"is_hedonic_entertainment\"\n",
    "joined = join_wides(\n",
    "    all_ai_labels.query(\"model_id == @model_id\"), human_labels_easy_set, questions\n",
    ")\n",
    "ai_bad = joined.query(\"not is_correct and variable == @q_col\")\n",
    "ai_bad.head()\n"
   ]
  },
  {
   "cell_type": "code",
   "execution_count": null,
   "metadata": {},
   "outputs": [],
   "source": [
    "from bench_lib.evaluation import to_binary_series\n",
    "\n",
    "from bench_lib.evaluation import plot_question_hists\n",
    "\n",
    "human_hist_data = {}\n",
    "for question, means in q_mens.items():\n",
    "    counts = means.value_counts(normalize=True)\n",
    "    human_hist_data[question] = (counts.index, counts.values)\n",
    "\n",
    "ai_hist_data = {}\n",
    "for question in questions:\n",
    "    counts = to_binary_series(\n",
    "        all_ai_labels.query(\"model_id == @model_id\")[question]\n",
    "    ).value_counts(normalize=True)\n",
    "    ai_hist_data[question] = (counts.index, counts.values)\n",
    "\n",
    "plot_question_hists(ai_hist_data, title=model_id)\n",
    "plot_question_hists(human_hist_data, title=\"Human\")"
   ]
  },
  {
   "cell_type": "code",
   "execution_count": 14,
   "metadata": {},
   "outputs": [],
   "source": [
    "q_col_comment = q_col + \"_comment\"\n",
    "for _, row in all_ai_labels.query(\n",
    "    \"model_id == @model_id and post_id.isin(@ai_bad.post_id)\"\n",
    ")[[\"post_id\", q_col_comment, q_col]].iterrows():\n",
    "    print(row[\"post_id\"])\n",
    "    print(row[q_col_comment])\n",
    "    print(row[q_col])\n",
    "    print()\n"
   ]
  }
 ],
 "metadata": {
  "kernelspec": {
   "display_name": "venv",
   "language": "python",
   "name": "python3"
  },
  "language_info": {
   "codemirror_mode": {
    "name": "ipython",
    "version": 3
   },
   "file_extension": ".py",
   "mimetype": "text/x-python",
   "name": "python",
   "nbconvert_exporter": "python",
   "pygments_lexer": "ipython3",
   "version": "3.12.4"
  }
 },
 "nbformat": 4,
 "nbformat_minor": 2
}
