{
 "cells": [
  {
   "cell_type": "code",
   "execution_count": 1,
   "metadata": {},
   "outputs": [],
   "source": [
    "%reload_ext autoreload\n",
    "%autoreload 2"
   ]
  },
  {
   "cell_type": "code",
   "execution_count": null,
   "metadata": {},
   "outputs": [],
   "source": [
    "from bench_lib.evaluation import compute_human_consistency, load_human_labels\n",
    "from bench_lib.utils import enable_info_logs\n",
    "\n",
    "enable_info_logs()\n",
    "\n",
    "human_labels, questions, comment_cols = load_human_labels()\n",
    "human_consistency_df = compute_human_consistency(human_labels, questions)\n",
    "human_consistency_df.head(2)"
   ]
  },
  {
   "cell_type": "markdown",
   "metadata": {},
   "source": [
    "from bench_lib.evaluation import benchmark_results_folder, check_self_consistency\n",
    "\n",
    "\n",
    "folder = \"self-consistency\"\n",
    "csv = benchmark_results_folder() / folder / \"model_labels.csv\"\n",
    "flip_counts_all, consistency_score = check_self_consistency(\n",
    "    csv_paths=[str(csv)],\n",
    "    model_to_check=\"google/gemma-3-27b-it\",\n",
    "    n_runs=5,\n",
    ")"
   ]
  },
  {
   "cell_type": "code",
   "execution_count": null,
   "metadata": {},
   "outputs": [],
   "source": [
    "from bench_lib.evaluation import load_ai_labels\n",
    "\n",
    "folder = \"self-consistency\"\n",
    "ai_labels_long = load_ai_labels([folder], questions, comment_cols)\n",
    "ai_labels_long.head(2)"
   ]
  },
  {
   "cell_type": "code",
   "execution_count": null,
   "metadata": {},
   "outputs": [],
   "source": [
    "from bench_lib.evaluation import agreement_score\n",
    "\n",
    "\n",
    "ai_agreement_df = ai_labels_long.groupby(\n",
    "    [\"post_id\", \"Model ID\", \"variable\"], as_index=False\n",
    ").agg(ai_self_consistency=(\"value\", agreement_score))\n",
    "ai_agreement_df.head(2)"
   ]
  },
  {
   "cell_type": "code",
   "execution_count": null,
   "metadata": {},
   "outputs": [],
   "source": [
    "import pandas as pd\n",
    "\n",
    "joint_consistency = pd.merge(\n",
    "    ai_agreement_df, human_consistency_df, on=[\"post_id\", \"variable\"], how=\"left\"\n",
    ")\n",
    "joint_consistency.head(2)"
   ]
  },
  {
   "cell_type": "code",
   "execution_count": null,
   "metadata": {},
   "outputs": [],
   "source": [
    "joint_consistency.groupby([\"Model ID\", \"human_consistent\"], as_index=False).agg(\n",
    "    avg_agreement_score=(\"ai_self_consistency\", \"mean\")\n",
    ")  # .sort_values(\"avg_agreement_score\", ascending=False)\n"
   ]
  }
 ],
 "metadata": {
  "kernelspec": {
   "display_name": "venv",
   "language": "python",
   "name": "python3"
  },
  "language_info": {
   "codemirror_mode": {
    "name": "ipython",
    "version": 3
   },
   "file_extension": ".py",
   "mimetype": "text/x-python",
   "name": "python",
   "nbconvert_exporter": "python",
   "pygments_lexer": "ipython3",
   "version": "3.11.9"
  }
 },
 "nbformat": 4,
 "nbformat_minor": 2
}
