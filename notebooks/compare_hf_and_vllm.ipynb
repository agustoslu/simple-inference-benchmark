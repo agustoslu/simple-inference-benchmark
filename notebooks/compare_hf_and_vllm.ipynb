{
 "cells": [
  {
   "cell_type": "code",
   "execution_count": 30,
   "metadata": {},
   "outputs": [],
   "source": [
    "from bench_lib.evaluation import load_ai_labels, load_human_labels\n",
    "from bench_lib.evaluation import compute_agreement_score\n",
    "\n",
    "\n",
    "human_labels_long, questions, comment_cols = load_human_labels(long=True)\n",
    "human_agreement = compute_agreement_score(human_labels_long)\n",
    "hf_labels_long = load_ai_labels(\n",
    "    folders=[\"qwen-2.5-vl\"], questions=questions, comment_cols=comment_cols\n",
    ").query(\"`Model ID`.str.startswith('Qwen')\")\n",
    "vllm_labels_long = load_ai_labels(\n",
    "    folders=[\"vllm-qwen2.5-vl\"], questions=questions, comment_cols=comment_cols\n",
    ").query(\"post_id.isin(@hf_labels_long['post_id'].unique()) and `Model ID`.isin(@hf_labels_long['Model ID'].unique())\")\n"
   ]
  },
  {
   "cell_type": "code",
   "execution_count": 31,
   "metadata": {},
   "outputs": [],
   "source": [
    "import pandas as pd\n",
    "\n",
    "\n",
    "ground_truth_long = pd.merge(\n",
    "    human_labels_long,\n",
    "    human_agreement.query(\"full_agreement\"),\n",
    "    on=(\"post_id\", \"variable\"),\n",
    ")"
   ]
  },
  {
   "cell_type": "code",
   "execution_count": null,
   "metadata": {},
   "outputs": [],
   "source": [
    "from bench_lib.evaluation import compute_ai_perfs\n",
    "\n",
    "perfs = []\n",
    "for labels_long, name in [(hf_labels_long, \"hf\"), (vllm_labels_long, \"vllm\")]:\n",
    "    ai_perfs = compute_ai_perfs(ground_truth_long, labels_long, questions).assign(type=name)\n",
    "    perfs.append(ai_perfs)\n",
    "perfs_df = pd.concat(perfs)"
   ]
  },
  {
   "cell_type": "code",
   "execution_count": null,
   "metadata": {},
   "outputs": [],
   "source": [
    "import seaborn as sns\n",
    "\n",
    "# Looks like vLLM is slightly better than HF.\n",
    "# We cannot expect identical results because the multimodal pre-processing is apparently different in vLLM.\n",
    "sns.catplot(data=perfs_df, x=\"type\", y=\"f1\", col=\"Model ID\", kind=\"bar\")"
   ]
  }
 ],
 "metadata": {
  "kernelspec": {
   "display_name": "venv",
   "language": "python",
   "name": "python3"
  },
  "language_info": {
   "codemirror_mode": {
    "name": "ipython",
    "version": 3
   },
   "file_extension": ".py",
   "mimetype": "text/x-python",
   "name": "python",
   "nbconvert_exporter": "python",
   "pygments_lexer": "ipython3",
   "version": "3.11.9"
  }
 },
 "nbformat": 4,
 "nbformat_minor": 2
}
