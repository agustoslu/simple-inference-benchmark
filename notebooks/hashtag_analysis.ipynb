{
 "cells": [
  {
   "cell_type": "code",
   "execution_count": null,
   "metadata": {},
   "outputs": [],
   "source": [
    "%load_ext autoreload\n",
    "%autoreload 2"
   ]
  },
  {
   "cell_type": "code",
   "execution_count": null,
   "metadata": {},
   "outputs": [],
   "source": [
    "from bench_lib.evaluation import load_ai_labels, load_human_labels\n",
    "\n",
    "human_labels_long, questions, comment_cols = load_human_labels(long=True)\n",
    "ai_labels = load_ai_labels([\"gemini-2.5-pro-noschema\"], questions, comment_cols)\n",
    "ai_labels.head(2)"
   ]
  },
  {
   "cell_type": "code",
   "execution_count": null,
   "metadata": {},
   "outputs": [],
   "source": [
    "ai_labels = ai_labels.assign(comment_contains_hashtag=ai_labels[\"comment\"].str.contains(\"hashtag\"))\n",
    "ai_labels.head(2)"
   ]
  },
  {
   "cell_type": "code",
   "execution_count": null,
   "metadata": {},
   "outputs": [],
   "source": [
    "ai_labels.groupby([\"variable\", \"value\"], as_index=False)[\"comment_contains_hashtag\"].mean()"
   ]
  },
  {
   "cell_type": "markdown",
   "metadata": {},
   "source": [
    "all_ai_labels = load_ai_labels([\"qwen-2.5-vl\"], questions, comment_cols)\n",
    "ai_avg_votes = all_ai_labels.groupby([\"post_id\", \"variable\"], as_index=False)[\"value\"].mean()\n",
    "print(len(ai_avg_votes))\n",
    "ai_avg_votes.head(2)"
   ]
  }
 ],
 "metadata": {
  "kernelspec": {
   "display_name": "venv",
   "language": "python",
   "name": "python3"
  },
  "language_info": {
   "codemirror_mode": {
    "name": "ipython",
    "version": 3
   },
   "file_extension": ".py",
   "mimetype": "text/x-python",
   "name": "python",
   "nbconvert_exporter": "python",
   "pygments_lexer": "ipython3",
   "version": "3.11.9"
  }
 },
 "nbformat": 4,
 "nbformat_minor": 2
}
