{
 "cells": [
  {
   "cell_type": "markdown",
   "id": "b52ab768",
   "metadata": {},
   "source": [
    "\n",
    "- I need you to dive deeper into the explanations of Gemini 2.5 Pro and how hashtags are used.\n",
    "    - My quick analysis showed that Gemini is using the word “hashtag” in explanations a lot.\n",
    "    - Question 1: Also the model uses “hashtag” explanations a lot more in some categories. Why is this? Is this a problem or is this human-like?\n",
    "    - Question 2: You had hypothesized that hashtag are used as a shortcut, and not looking at the videos at all. However, is this true? OR is the model looking at the videos, and then just justifying using hashtags.\n",
    "    - To look at the videos, copy a `post_id` and navigate to UI library > query=saxony-elections-… > subset=All Dates > Single Post Id=`post_id`\n",
    "- Related hypothesis: Sometimes Gemini 2.5 Pro is right, and the humans are wrong."
   ]
  },
  {
   "cell_type": "code",
   "execution_count": null,
   "id": "454f95de",
   "metadata": {},
   "outputs": [],
   "source": [
    "%load_ext autoreload\n",
    "%autoreload 2"
   ]
  },
  {
   "cell_type": "code",
   "execution_count": null,
   "id": "958c6085",
   "metadata": {},
   "outputs": [],
   "source": [
    "from bench_lib.evaluation import load_ai_labels, load_human_labels\n",
    "\n",
    "human_labels_long, questions, comment_cols = load_human_labels(long=True)\n",
    "ai_labels = load_ai_labels([\"gemini-pro-no-schema\"], questions, comment_cols)"
   ]
  },
  {
   "cell_type": "code",
   "execution_count": null,
   "id": "cfa5c7e5",
   "metadata": {},
   "outputs": [],
   "source": [
    "# Get all the posts where humans and AI both provided comments, might include posts where human commented more than once,\n",
    "# so for mean calculation below we will aggregate those.\n",
    "\n",
    "# TODO: a dataframe with the human comments and ai comments for matching post_ids side by side\n",
    "\n",
    "human_commented = human_labels_long[human_labels_long[\"comment\"].notnull() & (human_labels_long[\"comment\"].str.strip() != \"\")]\n",
    "common_post_ids = set(human_commented[\"post_id\"]).intersection(set(ai_labels[\"post_id\"]))\n",
    "len(common_post_ids)\n",
    "\n",
    "human_common_commented = human_commented[human_commented[\"post_id\"].isin(common_post_ids)]\n",
    "ai_common_commented = ai_labels[ai_labels[\"post_id\"].isin(common_post_ids)]\n",
    "len(human_common_commented[\"post_id\"].unique()) == len(ai_common_commented[\"post_id\"].unique())"
   ]
  },
  {
   "cell_type": "code",
   "execution_count": null,
   "id": "93ce50fd",
   "metadata": {},
   "outputs": [],
   "source": [
    "# TODO, instead might use python's emoji library to cover all range\n",
    "import re\n",
    "pattern = (\n",
    "    r\"(hashtag(s)?|#\\w+|\"  # hashtag, hashtags, or #word\n",
    "    r\"[\\U0001F600-\\U0001F64F]\"  # emoticons - Common face emojis (😀-🙏)\n",
    "    r\"|[\\U0001F300-\\U0001F5FF]\"  # symbols & pictographs (includes hearts) (💙, 🇩🇪)\n",
    "    r\"|[\\U0001F1E6-\\U0001F1FF])\"  # regional indicator symbols (used for flags) (💙, 🇩🇪)\n",
    ")\n",
    "\n",
    "human_common_commented = human_common_commented.assign(\n",
    "    comment_contains_hashtag=human_common_commented[\"comment\"].str.contains(pattern, regex=True, flags=re.IGNORECASE, na=False)\n",
    ")\n",
    "ai_common_commented = ai_common_commented.assign(\n",
    "    comment_contains_hashtag=ai_common_commented[\"comment\"].str.contains(pattern, regex=True, flags=re.IGNORECASE, na=False)\n",
    ")"
   ]
  },
  {
   "cell_type": "code",
   "execution_count": null,
   "id": "4c128a18",
   "metadata": {},
   "outputs": [],
   "source": [
    "agg = human_common_commented.groupby([\"post_id\", \"variable\", \"value\"])[\"comment_contains_hashtag\"].mean().reset_index()"
   ]
  },
  {
   "cell_type": "code",
   "execution_count": null,
   "id": "46602da3",
   "metadata": {},
   "outputs": [],
   "source": [
    "h_mean_per_cat = agg.groupby([\"variable\", \"value\"], as_index=False)[\"comment_contains_hashtag\"].mean()\n",
    "m_mean_per_cat = ai_common_commented.groupby([\"variable\", \"value\"], as_index=False)[\"comment_contains_hashtag\"].mean()"
   ]
  },
  {
   "cell_type": "code",
   "execution_count": null,
   "id": "bd6e7697",
   "metadata": {},
   "outputs": [],
   "source": [
    "h_mean_per_cat"
   ]
  },
  {
   "cell_type": "code",
   "execution_count": null,
   "id": "07a3d68f",
   "metadata": {},
   "outputs": [],
   "source": [
    "m_mean_per_cat"
   ]
  },
  {
   "cell_type": "markdown",
   "id": "92a162ad",
   "metadata": {},
   "source": [
    "#### @Tomas: My quick analysis showed that Gemini is using the word “hashtag” in explanations a lot. Question 1: Also the model uses “hashtag” explanations a lot more in some categories. Why is this? Is this a problem or is this human-like?"
   ]
  },
  {
   "cell_type": "markdown",
   "id": "e023d558",
   "metadata": {},
   "source": [
    "#### Out of all posts that are commented by both humans and Gemini, how does the hashtag distribution per category look like?\n",
    "(The use of \"hashtag\" is more broadly defined here as we take into account explicit (copy-paste hashtag use by the model like emojis) hashtag usage by the model and this is why there is even more discrepancy between human vs. model this time."
   ]
  },
  {
   "cell_type": "code",
   "execution_count": null,
   "id": "16b375e6",
   "metadata": {},
   "outputs": [],
   "source": [
    "import matplotlib.pyplot as plt\n",
    "import seaborn as sns\n",
    "import pandas as pd\n",
    "\n",
    "def plot_human_vs_model_means(h_mean_per_cat, m_mean_per_cat):\n",
    "    \n",
    "    h_mean_per_cat = h_mean_per_cat.copy()\n",
    "    h_mean_per_cat[\"labeler\"] = \"Human\"\n",
    "    \n",
    "    m_mean_per_cat = m_mean_per_cat.copy()\n",
    "    m_mean_per_cat[\"labeler\"] = \"Model\"\n",
    "    \n",
    "    combined_df = pd.concat([h_mean_per_cat, m_mean_per_cat], ignore_index=True)\n",
    "    \n",
    "    plt.figure(figsize=(12, 6))\n",
    "    sns.barplot(\n",
    "        data=combined_df,\n",
    "        x=\"variable\",\n",
    "        y=\"comment_contains_hashtag\",\n",
    "        hue=\"labeler\",\n",
    "        ci=None,\n",
    "        palette=\"muted\"\n",
    "    )\n",
    "    \n",
    "    plt.xlabel(\"Category (Variable)\", fontsize=12)\n",
    "    plt.ylabel(\"Mean (Comment contains hashtag)\", fontsize=12)\n",
    "    plt.title(\"Comparison of Human vs Model Means per Category and Value\", fontsize=14)\n",
    "    plt.xticks(rotation=45, ha=\"right\", fontsize=10)\n",
    "    plt.legend(title=\"Labeler\", fontsize=10)\n",
    "    plt.tight_layout()\n",
    "    plt.show()"
   ]
  },
  {
   "cell_type": "code",
   "execution_count": null,
   "id": "9058948e",
   "metadata": {},
   "outputs": [],
   "source": [
    "plot_human_vs_model_means(h_mean_per_cat, m_mean_per_cat)"
   ]
  },
  {
   "cell_type": "markdown",
   "id": "fb4d2bf7",
   "metadata": {},
   "source": [
    "It seems like there is definitely an alignment between the human labels and model labels when it comes to commenting categories such as is_intolerant, is_political, is_saxony with hashtags. My assumption is that even tough there exist categories like is_intolerant that got high disagreement score it's relatively easy to rely on hashtag for this group of categories(is_intolerant, is_political, is_saxony), whereas is_eudaimonic_entertainment and is_hedonic_entertainment are unique and it's difficult to explain these categories solely relying on hashtags, you would need an interplay of all modalities to correctly judge them such as video, audio and text. The model does seem comment more often than human labelers tough and it might indicate that if in case model taking shortcuts it might rather to justify its labels using hashtags, but for now it's just a speculation. \n",
    "\n",
    "This was an older comment -about the first histogram we've seen with naive mean calculation without any normalization steps-, however I still think that it holds true that categories such as is_eudaimonic_entertainment and is_hedonic_entertainment could be used as distinguishing events and we can keep them for the second round as well. However scaling up the categories up until 20 categories, while it might be helpful for sociological analysis, for practical reasons should be avoided, as comments carry more importance for AI analysis and noone would be willing to go through label 20 categories and then comment each of those. 5 categories on the other hand could still be a reasonable limit."
   ]
  },
  {
   "cell_type": "markdown",
   "id": "878ca171",
   "metadata": {},
   "source": [
    "#### Question 2: You had hypothesized that hashtag are used as a shortcut, and not looking at the videos at all. However, is this true? OR is the model looking at the videos, and then just justifying using hashtags."
   ]
  },
  {
   "cell_type": "markdown",
   "id": "f8e8dcc8",
   "metadata": {},
   "source": [
    "Preview of categories of interest and labeler comments with hashtags"
   ]
  },
  {
   "cell_type": "code",
   "execution_count": null,
   "id": "4be53735",
   "metadata": {},
   "outputs": [],
   "source": [
    "h_comments_with_hashtags = human_common_commented[human_common_commented[\"comment_contains_hashtag\"]]"
   ]
  },
  {
   "cell_type": "code",
   "execution_count": null,
   "id": "14ed376d",
   "metadata": {},
   "outputs": [],
   "source": [
    "m_comments_with_hashtags = ai_common_commented[ai_common_commented[\"comment_contains_hashtag\"]]"
   ]
  },
  {
   "cell_type": "code",
   "execution_count": null,
   "id": "4fc224ae",
   "metadata": {},
   "outputs": [],
   "source": [
    "categories_of_interest = [\"is_eudaimonic_entertainment\", \"is_hedonic_entertainment\", \"is_intolerant\"]\n",
    "h_filtered_comments = h_comments_with_hashtags[h_comments_with_hashtags[\"variable\"].isin(categories_of_interest)]\n",
    "m_filtered_comments = m_comments_with_hashtags[m_comments_with_hashtags[\"variable\"].isin(categories_of_interest)]\n",
    "h_grouped_comments = h_filtered_comments.groupby([\"post_id\", \"variable\", \"value\"])[\"comment\"].apply(list).reset_index()\n",
    "m_grouped_comments = m_filtered_comments.groupby([\"post_id\", \"variable\", \"value\"])[\"comment\"].apply(list).reset_index()\n",
    "\n",
    "h_grouped_comments.head()\n",
    "len(h_grouped_comments) # only 5 instances, with is_saxony and is_political included 16 instances\n",
    "m_grouped_comments.head()\n",
    "len(m_grouped_comments) # 126 instances, with is_saxony and is_political included 315 instances"
   ]
  },
  {
   "cell_type": "code",
   "execution_count": null,
   "id": "3f9f6ee1",
   "metadata": {},
   "outputs": [],
   "source": [
    "# Get videos to inspect\n",
    "matching_post_ids = set(h_grouped_comments[\"post_id\"]) & set(m_grouped_comments[\"post_id\"])\n",
    "matching_post_ids"
   ]
  },
  {
   "cell_type": "markdown",
   "id": "70038625",
   "metadata": {},
   "source": [
    "Library Video Inspection Results\n",
    "only checked out the narrowed down scope of videos as mentioned in the code above"
   ]
  },
  {
   "cell_type": "code",
   "execution_count": null,
   "id": "604f8597",
   "metadata": {},
   "outputs": [],
   "source": [
    "h_grouped_comments"
   ]
  },
  {
   "cell_type": "code",
   "execution_count": null,
   "id": "1bf1a764",
   "metadata": {},
   "outputs": [],
   "source": [
    "print(h_grouped_comments[h_grouped_comments[\"post_id\"] == \"7388827240718404896\"][\"comment\"].values)\n",
    "print(h_grouped_comments[h_grouped_comments[\"post_id\"] == \"7388827240718404896\"][\"value\"].values)"
   ]
  },
  {
   "cell_type": "code",
   "execution_count": null,
   "id": "2e73b9b9",
   "metadata": {},
   "outputs": [],
   "source": [
    "# A good example where we can see model considers all modalities including correctly defining the genre of the music played \n",
    "# without a clear indication in the video and uses hashtags only for further elaboration\n",
    "# one might of course argue that the language in the hashtags used might be an indicator of the group of \"Metalheads\" but I guess this much of nuance\n",
    "# could only be captured by looking further into the model's generation\n",
    "# similar to what Philipp mentioned during the meeting with the usage of number 88 among certain right-wing groups\n",
    "# the more I look at the individual posts the more I think there might be some other indicators that might blur the model's judgement\n",
    "# about whether it uses/or -to what degree- other modalities or not. It's also showing where people do the heavy metal gesture \"Devil's horns\"\n",
    "# with their hands. Interestingly,\n",
    "# there is a hand gesture that resembles it and is used among right-wing Turkish groups, also in Germany called as \"Wolfsgruß\".\n",
    "# I think we can consider overall at least for such examples it's a good idea to provide model with metadata, otherwise \n",
    "# simply given a video without any context it might be hard to distinguish between all these.\n",
    "\n",
    "print(m_grouped_comments[m_grouped_comments[\"post_id\"] == \"7388827240718404896\"][\"comment\"].values)\n",
    "print(m_grouped_comments[m_grouped_comments[\"post_id\"] == \"7388827240718404896\"][\"value\"].values)"
   ]
  },
  {
   "cell_type": "code",
   "execution_count": null,
   "id": "28a7f2b1",
   "metadata": {},
   "outputs": [],
   "source": [
    "print(h_grouped_comments[h_grouped_comments[\"post_id\"] == \"7408532445294791969\"][\"comment\"].values)\n",
    "print(h_grouped_comments[h_grouped_comments[\"post_id\"] == \"7408532445294791969\"][\"value\"].values)"
   ]
  },
  {
   "cell_type": "code",
   "execution_count": null,
   "id": "1ff0d408",
   "metadata": {},
   "outputs": [],
   "source": [
    "print(m_grouped_comments[m_grouped_comments[\"post_id\"] == \"7408532445294791969\"][\"comment\"].values)\n",
    "print(m_grouped_comments[m_grouped_comments[\"post_id\"] == \"7408532445294791969\"][\"value\"].values)"
   ]
  },
  {
   "cell_type": "code",
   "execution_count": null,
   "id": "2b6cec13",
   "metadata": {},
   "outputs": [],
   "source": [
    "print(h_grouped_comments[h_grouped_comments[\"post_id\"] == \"7410732413246082336\"][\"comment\"].values)\n",
    "print(h_grouped_comments[h_grouped_comments[\"post_id\"] == \"7410732413246082336\"][\"value\"].values)"
   ]
  },
  {
   "cell_type": "code",
   "execution_count": null,
   "id": "d76c68f5",
   "metadata": {},
   "outputs": [],
   "source": [
    "# interesting example by Gemini. Especially the last part looks so thought through and articulate in comparison to the plain commentation \n",
    "# done by humans. \n",
    "# You mentioned as a related hypothesis \"Sometimes Gemini 2.5 Pro is right, and the humans are wrong.\"\n",
    "# even tough both sides reach to the same conclusion on this one and labelled the post as 1,\n",
    "# the way they reach to that seems to be different, where model outputs more nuanced justification\n",
    "# for its labeling.\n",
    "print(m_grouped_comments[m_grouped_comments[\"post_id\"] == \"7410732413246082336\"][\"comment\"].values)\n",
    "print(m_grouped_comments[m_grouped_comments[\"post_id\"] == \"7410732413246082336\"][\"value\"].values)"
   ]
  },
  {
   "cell_type": "code",
   "execution_count": null,
   "id": "86895fd9",
   "metadata": {},
   "outputs": [],
   "source": [
    "print(h_grouped_comments[h_grouped_comments[\"post_id\"] == \"7416726076744863008\"][\"comment\"].values)\n",
    "print(h_grouped_comments[h_grouped_comments[\"post_id\"] == \"7416726076744863008\"][\"value\"].values)"
   ]
  },
  {
   "cell_type": "code",
   "execution_count": null,
   "id": "ca714416",
   "metadata": {},
   "outputs": [],
   "source": [
    "# Another example by Gemini where it clearly uses hashtags only for further elaboration\n",
    "print(m_grouped_comments[m_grouped_comments[\"post_id\"] == \"7416726076744863008\"][\"comment\"].values)\n",
    "print(m_grouped_comments[m_grouped_comments[\"post_id\"] == \"7416726076744863008\"][\"value\"].values)"
   ]
  },
  {
   "cell_type": "code",
   "execution_count": null,
   "id": "450dfca2",
   "metadata": {},
   "outputs": [],
   "source": [
    "# TODO:\n",
    "# get the posts where human labelers commented / to justify their labels using audio modality / keywords: sound, audio, voice, music, song\n",
    "# keyword: combination, both, either - especially post where there is high disagreement between humans\n",
    "# get the same posts from AI labels and compare its justification. is it rather hashtag or not? and also calculate the percentage of posts that are justified by audio modality\n",
    "# and also the percentage of posts that are justified by hashtags\n",
    "# and also agreement between human and AI labels in these posts audio modality RQ: The impact of different modalities while labeling\n",
    "# see Tomas regression analysis + disagreement/agreement_score, to see correlation between human and AI labels Related hypothesis: Sometimes Gemini 2.5 Pro is right, and the humans are wrong. \n",
    "# is it due to modality? do some modalities introduce noise? ablation study\n",
    "# go back to first qwen generations toxicainment output file\n",
    "# one example qwen 72b recognizes the joke - or whatever that was-/ \"ein Dreier\" whereas qwen 3b and 7b will proceed with hashtag justification directly\n",
    "# less parameter count less representation space however qwen also apply some tricks to enhance memory usage does it have any impact, like smaller model + \n",
    "# resized/smaller images passed to the model? any distortion in the quality of the image the model sees? probably qwen team knows well enough to publish this\n",
    "# so no need to check this\n",
    "\n",
    "#human_commented = human_commented.assign(comment_contains_audio=human_commented[\"comment\"].str.contains(\"audio|sound|voice|music|song\"))"
   ]
  }
 ],
 "metadata": {
  "kernelspec": {
   "display_name": "penv",
   "language": "python",
   "name": "python3"
  },
  "language_info": {
   "codemirror_mode": {
    "name": "ipython",
    "version": 3
   },
   "file_extension": ".py",
   "mimetype": "text/x-python",
   "name": "python",
   "nbconvert_exporter": "python",
   "pygments_lexer": "ipython3",
   "version": "3.10.12"
  }
 },
 "nbformat": 4,
 "nbformat_minor": 5
}
