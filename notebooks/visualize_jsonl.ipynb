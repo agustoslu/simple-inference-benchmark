{
 "cells": [
  {
   "cell_type": "code",
   "execution_count": null,
   "metadata": {},
   "outputs": [],
   "source": [
    "%load_ext autoreload\n",
    "%autoreload 2"
   ]
  },
  {
   "cell_type": "code",
   "execution_count": 22,
   "metadata": {},
   "outputs": [],
   "source": [
    "from bench_lib.evaluation import benchmark_results_folder\n",
    "\n",
    "rfolder = benchmark_results_folder()\n",
    "folders = [\"gemma-3-4b-it\", \"gemma-3-12b-it\", \"gemma-3-27b-it_00\", \"qwen-2.5-vl\", \"gemini-2.5-pro-noschema\"]\n",
    "files = [str(rfolder / f / \"toxicainment_videos_log.jsonl\") for f in folders]"
   ]
  },
  {
   "cell_type": "code",
   "execution_count": 23,
   "metadata": {},
   "outputs": [],
   "source": [
    "import duckdb\n",
    "\n",
    "con = duckdb.connect()\n",
    "query = f\"SELECT * FROM read_json({files})\"\n",
    "df = con.sql(query).df()"
   ]
  },
  {
   "cell_type": "code",
   "execution_count": null,
   "metadata": {},
   "outputs": [],
   "source": [
    "df.head(2)"
   ]
  },
  {
   "cell_type": "code",
   "execution_count": null,
   "metadata": {},
   "outputs": [],
   "source": [
    "df.groupby(\"Model ID\", as_index=False).agg(\n",
    "    avg_total_runtime=(\"Total_Runtime\", \"mean\"),\n",
    "    avg_model_runtime=(\"Model_Runtime\", \"mean\"),\n",
    "    avg_tokens_generated=(\"Tokens_Generated\", \"mean\"),\n",
    "    avg_peak_memory_alloc=(\"Peak_Memory_Allocated\", \"mean\"),\n",
    "    avg_peak_memory_reserved=(\"Peak_Memory_Reserved\", \"mean\"),\n",
    "    avg_total_frames=(\"Total_Frames\", \"mean\"),\n",
    ").sort_values(\"avg_model_runtime\", ascending=False).round(2)"
   ]
  },
  {
   "cell_type": "code",
   "execution_count": null,
   "metadata": {},
   "outputs": [],
   "source": [
    "from bench_lib.evaluation import plot_runtime_side_by_side\n",
    "\n",
    "\n",
    "fig = plot_runtime_side_by_side(\n",
    "    df.query(\"`Model ID` == 'Qwen/Qwen2.5-VL-3B-Instruct'\"),\n",
    "    df.query(\"`Model ID` == 'Qwen/Qwen2.5-VL-72B-Instruct'\"),\n",
    "    title1=\"Qwen2.5-VL 3B\",\n",
    "    title2=\"Qwen2.5-VL 72B\",\n",
    ")\n",
    "fig.savefig(\"imgs/runtime_scatter_qwenvl.png\", dpi=300, bbox_inches=\"tight\")\n",
    "\n",
    "fig = plot_runtime_side_by_side(\n",
    "    df.query(\"`Model ID` == 'google/gemma-3-4b-it'\"),\n",
    "    df.query(\"`Model ID` == 'google/gemma-3-27b-it'\"),\n",
    "    title1=\"Gemma-3 4B\",\n",
    "    title2=\"Gemma-3 27B\",\n",
    ")\n",
    "fig.savefig(\"imgs/runtime_scatter_g3.png\", dpi=300, bbox_inches=\"tight\")\n"
   ]
  },
  {
   "cell_type": "code",
   "execution_count": null,
   "metadata": {},
   "outputs": [],
   "source": [
    "df.query(\"`Model ID`.str.contains('gemini')\")[\"Total_Runtime\"].describe()"
   ]
  }
 ],
 "metadata": {
  "kernelspec": {
   "display_name": "venv",
   "language": "python",
   "name": "python3"
  },
  "language_info": {
   "codemirror_mode": {
    "name": "ipython",
    "version": 3
   },
   "file_extension": ".py",
   "mimetype": "text/x-python",
   "name": "python",
   "nbconvert_exporter": "python",
   "pygments_lexer": "ipython3",
   "version": "3.11.9"
  }
 },
 "nbformat": 4,
 "nbformat_minor": 2
}
