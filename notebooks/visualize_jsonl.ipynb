{
 "cells": [
  {
   "cell_type": "code",
   "execution_count": 4,
   "metadata": {},
   "outputs": [],
   "source": [
    "from pathlib import Path\n",
    "import pandas as pd\n",
    "\n",
    "jsonl_path1 = \"../results/gemma-3-12b-it/toxicainment_videos_log.jsonl\"\n",
    "assert Path(jsonl_path1).exists()\n",
    "df1 = pd.read_json(jsonl_path1, orient=\"records\", lines=True)"
   ]
  },
  {
   "cell_type": "code",
   "execution_count": 5,
   "metadata": {},
   "outputs": [],
   "source": [
    "jsonl_path2 = \"../results/gemma-3-27b-it/toxicainment_videos_log.jsonl\"\n",
    "assert Path(jsonl_path2).exists()\n",
    "df2 = pd.read_json(jsonl_path2, orient=\"records\", lines=True)"
   ]
  },
  {
   "cell_type": "code",
   "execution_count": null,
   "metadata": {},
   "outputs": [],
   "source": [
    "from evaluation_lib import visualize_runtime\n",
    "\n",
    "\n",
    "fig1 = visualize_runtime(df1)\n",
    "fig2 = visualize_runtime(df2)"
   ]
  },
  {
   "cell_type": "code",
   "execution_count": null,
   "metadata": {},
   "outputs": [],
   "source": [
    "import matplotlib.pyplot as plt\n",
    "\n",
    "df1[\"Peak_Memory_Allocated\"].hist()\n",
    "df2[\"Peak_Memory_Allocated\"].hist()\n",
    "plt.xlim(0, None)"
   ]
  }
 ],
 "metadata": {
  "kernelspec": {
   "display_name": "venv",
   "language": "python",
   "name": "python3"
  },
  "language_info": {
   "codemirror_mode": {
    "name": "ipython",
    "version": 3
   },
   "file_extension": ".py",
   "mimetype": "text/x-python",
   "name": "python",
   "nbconvert_exporter": "python",
   "pygments_lexer": "ipython3",
   "version": "3.12.4"
  }
 },
 "nbformat": 4,
 "nbformat_minor": 2
}
