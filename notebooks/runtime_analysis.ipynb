{
 "cells": [
  {
   "cell_type": "code",
   "execution_count": 1,
   "metadata": {},
   "outputs": [],
   "source": [
    "%load_ext autoreload\n",
    "%autoreload 2"
   ]
  },
  {
   "cell_type": "code",
   "execution_count": 2,
   "metadata": {},
   "outputs": [],
   "source": [
    "import pandas as pd\n",
    "import seaborn as sns"
   ]
  },
  {
   "cell_type": "code",
   "execution_count": null,
   "metadata": {},
   "outputs": [],
   "source": [
    "df1 = pd.read_json(\"./runtimes/lrz-h100-toxicainment_videos_log.jsonl\", lines=True)\n",
    "df2 = pd.read_json(\"./runtimes/css-toxicainment_videos_log.jsonl\", lines=True)\n",
    "df = pd.concat([df1, df2], ignore_index=True)\n",
    "df.head(2)"
   ]
  },
  {
   "cell_type": "code",
   "execution_count": null,
   "metadata": {},
   "outputs": [],
   "source": [
    "import json\n",
    "\n",
    "with open(\"./runtimes/runid_2_concurrency.json\", \"r\") as f:\n",
    "    data = json.load(f)\n",
    "\n",
    "rows = []\n",
    "for group_data in data:\n",
    "    for uid, concurrency in group_data[\"concurrency\"].items():\n",
    "        rows.append(\n",
    "            {\"Run_ID\": uid, \"concurrency\": concurrency, \"name\": group_data[\"name\"]}\n",
    "        )\n",
    "concurrency_df = pd.DataFrame(rows)\n",
    "concurrency_df.head(2)"
   ]
  },
  {
   "cell_type": "code",
   "execution_count": 5,
   "metadata": {},
   "outputs": [],
   "source": [
    "begin = df.groupby(\"Run_ID\", as_index=False).agg(\n",
    "    t0=(\"Timestamp\", \"first\"), d0=(\"Total_Runtime\", \"first\")\n",
    ")\n",
    "df = pd.merge(df, begin, on=\"Run_ID\", how=\"left\").assign(\n",
    "    tx=lambda df: (df[\"Timestamp\"] - df[\"t0\"]).dt.total_seconds() + df[\"d0\"]\n",
    ")"
   ]
  },
  {
   "cell_type": "code",
   "execution_count": null,
   "metadata": {},
   "outputs": [],
   "source": [
    "df = pd.merge(df, concurrency_df, on=\"Run_ID\", how=\"left\")\n",
    "df.head(2)"
   ]
  },
  {
   "cell_type": "code",
   "execution_count": null,
   "metadata": {},
   "outputs": [],
   "source": [
    "sdf = df.groupby([\"name\", \"concurrency\"], as_index=False).agg(\n",
    "    avg_runtime=(\"Total_Runtime\", \"mean\"),\n",
    "    total_runtime=(\"Total_Runtime\", \"sum\"),\n",
    "    first_response=(\"Total_Runtime\", \"first\"),\n",
    "    n_requests=(\"Total_Runtime\", \"count\"),\n",
    ")\n",
    "sdf"
   ]
  },
  {
   "cell_type": "code",
   "execution_count": null,
   "metadata": {},
   "outputs": [],
   "source": [
    "ax = sns.scatterplot(sdf, x=\"concurrency\", y=\"avg_runtime\", hue=\"name\")\n",
    "ax.grid(alpha=0.5)\n",
    "ax.set_ylim(0, None)"
   ]
  },
  {
   "cell_type": "code",
   "execution_count": null,
   "metadata": {},
   "outputs": [],
   "source": [
    "df[\"cumsum_runtime\"] = df.groupby(\"Run_ID\")[\"Total_Runtime\"].cumsum()\n",
    "df[\"id_in_run\"] = df.groupby(\"Run_ID\").cumcount()\n",
    "sns.relplot(\n",
    "    data=df.query(\"name == 'lrz-h100'\"),\n",
    "    x=\"cumsum_runtime\",\n",
    "    y=\"id_in_run\",\n",
    "    hue=\"concurrency\",\n",
    "    palette=\"tab10\",  # Using a discrete color palette\n",
    "    hue_norm=None,    # Ensures discrete colors\n",
    "    row=\"name\",\n",
    "    kind=\"line\",\n",
    "    height=4,\n",
    "    aspect=2\n",
    ")"
   ]
  }
 ],
 "metadata": {
  "kernelspec": {
   "display_name": "venv",
   "language": "python",
   "name": "python3"
  },
  "language_info": {
   "codemirror_mode": {
    "name": "ipython",
    "version": 3
   },
   "file_extension": ".py",
   "mimetype": "text/x-python",
   "name": "python",
   "nbconvert_exporter": "python",
   "pygments_lexer": "ipython3",
   "version": "3.11.9"
  }
 },
 "nbformat": 4,
 "nbformat_minor": 2
}
