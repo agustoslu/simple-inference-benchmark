{
 "cells": [
  {
   "cell_type": "markdown",
   "metadata": {},
   "source": [
    "# When Does Gemini 2.5 Pro Disagree with Human Labels?\n",
    "Could it be actually mostly right?"
   ]
  },
  {
   "cell_type": "code",
   "execution_count": null,
   "metadata": {},
   "outputs": [],
   "source": [
    "from bench_lib.evaluation import load_ai_labels, load_human_labels\n",
    "\n",
    "human_labels_long, questions, comment_cols = load_human_labels(long=True)\n",
    "ai_labels = load_ai_labels([\"gemini-2.5-pro-noschema\"], questions, comment_cols)\n",
    "ai_labels.head(2)"
   ]
  },
  {
   "cell_type": "code",
   "execution_count": null,
   "metadata": {},
   "outputs": [],
   "source": [
    "human_avg_votes = human_labels_long.groupby([\"post_id\", \"variable\"], as_index=False)[\n",
    "    \"value\"\n",
    "].mean()\n",
    "print(len(human_avg_votes))\n",
    "human_avg_votes.head(2)"
   ]
  },
  {
   "cell_type": "code",
   "execution_count": null,
   "metadata": {},
   "outputs": [],
   "source": [
    "import pandas as pd\n",
    "\n",
    "\n",
    "joint_avg_votes = pd.merge(\n",
    "    human_avg_votes,\n",
    "    ai_labels[[\"post_id\", \"variable\", \"value\", \"comment\"]],\n",
    "    on=[\"post_id\", \"variable\"],\n",
    "    suffixes=(\"_human\", \"_ai\"),\n",
    ")\n",
    "joint_avg_votes = joint_avg_votes.assign(\n",
    "    diff=(joint_avg_votes[\"value_human\"] - joint_avg_votes[\"value_ai\"]).abs()\n",
    ")\n",
    "joint_avg_votes.sort_values(\"diff\", ascending=False, inplace=True)\n",
    "joint_avg_votes.head(10)"
   ]
  },
  {
   "cell_type": "code",
   "execution_count": 4,
   "metadata": {},
   "outputs": [],
   "source": [
    "post_id = \"7418700162924596512\"\n",
    "variable = \"is_intolerant\""
   ]
  },
  {
   "cell_type": "code",
   "execution_count": null,
   "metadata": {},
   "outputs": [],
   "source": [
    "human_labels_long.query(\"post_id == @post_id and variable == @variable\")"
   ]
  },
  {
   "cell_type": "code",
   "execution_count": null,
   "metadata": {},
   "outputs": [],
   "source": [
    "row = ai_labels.query(\"post_id == @post_id and variable == @variable\").iloc[0]\n",
    "print(row)\n",
    "print()\n",
    "print(row[\"comment\"])"
   ]
  }
 ],
 "metadata": {
  "kernelspec": {
   "display_name": "venv",
   "language": "python",
   "name": "python3"
  },
  "language_info": {
   "codemirror_mode": {
    "name": "ipython",
    "version": 3
   },
   "file_extension": ".py",
   "mimetype": "text/x-python",
   "name": "python",
   "nbconvert_exporter": "python",
   "pygments_lexer": "ipython3",
   "version": "3.11.9"
  }
 },
 "nbformat": 4,
 "nbformat_minor": 2
}
