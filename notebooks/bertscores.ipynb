{
 "cells": [
  {
   "cell_type": "code",
   "execution_count": 3,
   "metadata": {},
   "outputs": [],
   "source": [
    "path = \"/home/tomasruiz/datasets/dss_home/toxicainment/simple_inference_benchmark_results/qwen-2.5-vl/model_labels.csv\""
   ]
  },
  {
   "cell_type": "code",
   "execution_count": null,
   "metadata": {},
   "outputs": [],
   "source": [
    "import pandas as pd\n",
    "\n",
    "\n",
    "wide = pd.read_csv(path)\n",
    "wide"
   ]
  },
  {
   "cell_type": "code",
   "execution_count": null,
   "metadata": {},
   "outputs": [],
   "source": [
    "cols = [\n",
    "    \"is_eudaimonic_entertainment\",\n",
    "    \"is_hedonic_entertainment\",\n",
    "    \"is_intolerant\",\n",
    "    \"is_political\",\n",
    "    \"is_saxony\",\n",
    "]\n",
    "comments_cols = [f\"{col}_comment\" for col in cols]\n",
    "long = pd.melt(wide, id_vars=[\"Model ID\", \"post_id\"], value_vars=comments_cols)\n",
    "long"
   ]
  },
  {
   "cell_type": "code",
   "execution_count": 23,
   "metadata": {},
   "outputs": [],
   "source": [
    "gt = \"/home/tomasruiz/datasets/dss_home/toxicainment/simple_inference_benchmark_results/gemini-2.5-pro-noschema/model_labels.csv\"\n",
    "gt = pd.read_csv(gt)\n",
    "gt_long = pd.melt(gt, id_vars=[\"Model ID\", \"post_id\"], value_vars=comments_cols)"
   ]
  },
  {
   "cell_type": "code",
   "execution_count": null,
   "metadata": {},
   "outputs": [],
   "source": [
    "joined = pd.merge(long, gt_long, on=[\"post_id\", \"variable\"], suffixes=(\"_ai\", \"_gt\"))\n",
    "\n",
    "joined"
   ]
  },
  {
   "cell_type": "code",
   "execution_count": null,
   "metadata": {},
   "outputs": [],
   "source": [
    "from bench_lib.evaluation import calc_bertscore\n",
    "import numpy as np\n",
    "\n",
    "\n",
    "def func(df):\n",
    "    row = df.iloc[0]\n",
    "    gt = row[\"value_gt\"]\n",
    "    ai = row[\"value_ai\"]\n",
    "    return calc_bertscore([ai], [gt])\n",
    "    # return np.random.rand()\n",
    "\n",
    "\n",
    "joined.groupby([\"Model ID_ai\", \"post_id\", \"variable\"]).apply(func)"
   ]
  },
  {
   "cell_type": "code",
   "execution_count": null,
   "metadata": {},
   "outputs": [],
   "source": [
    "joined.dropna(subset=[\"value_ai\"], inplace=True)"
   ]
  },
  {
   "cell_type": "code",
   "execution_count": null,
   "metadata": {},
   "outputs": [],
   "source": [
    "from bert_score import score\n",
    "\n",
    "\n",
    "results = score(\n",
    "    joined[\"value_ai\"].astype(\"string\").tolist(),\n",
    "    joined[\"value_gt\"].astype(\"string\").tolist(),\n",
    "    lang=\"en\",\n",
    "    verbose=False,\n",
    "    device=\"cuda\",\n",
    ")"
   ]
  },
  {
   "cell_type": "code",
   "execution_count": null,
   "metadata": {},
   "outputs": [],
   "source": [
    "P, R, F1 = results"
   ]
  },
  {
   "cell_type": "code",
   "execution_count": 52,
   "metadata": {},
   "outputs": [],
   "source": [
    "joined = joined.assign(bertscore_f1=F1.numpy())"
   ]
  },
  {
   "cell_type": "code",
   "execution_count": null,
   "metadata": {},
   "outputs": [],
   "source": [
    "joined.sort_values(\"bertscore_f1\", ascending=False)[\n",
    "    [\"value_ai\", \"value_gt\", \"bertscore_f1\"]\n",
    "]"
   ]
  },
  {
   "cell_type": "code",
   "execution_count": null,
   "metadata": {},
   "outputs": [],
   "source": [
    "row = joined.query(\"bertscore_f1 == bertscore_f1.max()\").iloc[0]\n",
    "print(row)\n",
    "print(row[\"value_ai\"])\n",
    "print(row[\"value_gt\"])\n",
    "print(row[\"bertscore_f1\"])"
   ]
  },
  {
   "cell_type": "code",
   "execution_count": null,
   "metadata": {},
   "outputs": [],
   "source": [
    "row = joined.query(\"bertscore_f1 == bertscore_f1.min()\").iloc[0]\n",
    "print(row)\n",
    "print(row[\"value_ai\"])\n",
    "print(row[\"value_gt\"])\n",
    "print(row[\"bertscore_f1\"])"
   ]
  }
 ],
 "metadata": {
  "kernelspec": {
   "display_name": "venv",
   "language": "python",
   "name": "python3"
  },
  "language_info": {
   "codemirror_mode": {
    "name": "ipython",
    "version": 3
   },
   "file_extension": ".py",
   "mimetype": "text/x-python",
   "name": "python",
   "nbconvert_exporter": "python",
   "pygments_lexer": "ipython3",
   "version": "3.11.9"
  }
 },
 "nbformat": 4,
 "nbformat_minor": 2
}
