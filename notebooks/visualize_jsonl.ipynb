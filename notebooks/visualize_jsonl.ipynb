{
 "cells": [
  {
   "cell_type": "code",
   "execution_count": 1,
   "metadata": {},
   "outputs": [],
   "source": [
    "from pathlib import Path\n",
    "import pandas as pd\n",
    "\n",
    "jsonl_path = \"./results-gemma-3-12b-it/toxicainment_videos_log.jsonl\"\n",
    "df = pd.read_json(jsonl_path, orient=\"records\", lines=True)"
   ]
  },
  {
   "cell_type": "code",
   "execution_count": null,
   "metadata": {},
   "outputs": [],
   "source": [
    "import matplotlib.pyplot as plt\n",
    "\n",
    "# The model takes longer for more input frames and for more output tokens generated\n",
    "plt.scatter(df[\"Tokens_Generated\"], df[\"Model_Runtime\"], c=df[\"Total_Frames\"])\n",
    "plt.colorbar(label=\"Input Frames Per Video\")\n",
    "plt.xlim(0, None)\n",
    "plt.ylim(0, None)\n",
    "plt.xlabel(\"Output Tokens Generated\")\n",
    "plt.ylabel(\"Model Runtime\")\n",
    "plt.grid(alpha=0.5)\n",
    "plt.tight_layout()\n",
    "plt.show()"
   ]
  }
 ],
 "metadata": {
  "kernelspec": {
   "display_name": "venv",
   "language": "python",
   "name": "python3"
  },
  "language_info": {
   "codemirror_mode": {
    "name": "ipython",
    "version": 3
   },
   "file_extension": ".py",
   "mimetype": "text/x-python",
   "name": "python",
   "nbconvert_exporter": "python",
   "pygments_lexer": "ipython3",
   "version": "3.12.4"
  }
 },
 "nbformat": 4,
 "nbformat_minor": 2
}
