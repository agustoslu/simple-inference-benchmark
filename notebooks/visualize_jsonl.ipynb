{
 "cells": [
  {
   "cell_type": "code",
   "execution_count": 1,
   "metadata": {},
   "outputs": [],
   "source": [
    "%load_ext autoreload\n",
    "%autoreload 2"
   ]
  },
  {
   "cell_type": "code",
   "execution_count": null,
   "metadata": {},
   "outputs": [],
   "source": [
    "from bench_lib.evaluation import benchmark_results_folder\n",
    "\n",
    "rfolder = benchmark_results_folder()\n",
    "folders = [\n",
    "    # \"gemma-3-4b-it\",\n",
    "    # \"gemma-3-12b-it\",\n",
    "    # \"gemma-3-27b-it_00\",\n",
    "    \"qwen-2.5-vl\",\n",
    "    \"gemini-2.5-pro-noschema\",\n",
    "]\n",
    "files = [str(rfolder / f / \"toxicainment_videos_log.jsonl\") for f in folders]"
   ]
  },
  {
   "cell_type": "code",
   "execution_count": 3,
   "metadata": {},
   "outputs": [],
   "source": [
    "import duckdb\n",
    "\n",
    "con = duckdb.connect()\n",
    "query = f\"SELECT * FROM read_json({files})\"\n",
    "df = con.sql(query).df()"
   ]
  },
  {
   "cell_type": "code",
   "execution_count": null,
   "metadata": {},
   "outputs": [],
   "source": [
    "df.head(2)"
   ]
  },
  {
   "cell_type": "code",
   "execution_count": null,
   "metadata": {},
   "outputs": [],
   "source": [
    "agg_df = df.groupby(\"Model ID\", as_index=False).agg(\n",
    "    avg_total_runtime=(\"Total_Runtime\", \"mean\"),\n",
    "    avg_model_runtime=(\"Model_Runtime\", \"mean\"),\n",
    "    avg_tokens_generated=(\"Tokens_Generated\", \"mean\"),\n",
    "    avg_peak_memory_alloc=(\"Peak_Memory_Allocated\", \"mean\"),\n",
    "    avg_peak_memory_reserved=(\"Peak_Memory_Reserved\", \"mean\"),\n",
    "    avg_total_frames=(\"Total_Frames\", \"mean\"),\n",
    ").sort_values(\"avg_model_runtime\", ascending=False).round(2)\n",
    "agg_df"
   ]
  },
  {
   "cell_type": "code",
   "execution_count": 6,
   "metadata": {},
   "outputs": [],
   "source": [
    "from bench_lib.evaluation import visualize_runtime\n",
    "\n",
    "\n",
    "fig, _ = visualize_runtime(\n",
    "    df.query(\"`Model ID`.str.contains('gemma')\"), hue=\"Model ID\", plot_colorbar=False\n",
    ")\n",
    "fig.savefig(\"imgs/runtime_scatter_g3_by_model.pdf\", bbox_inches=\"tight\")"
   ]
  },
  {
   "cell_type": "code",
   "execution_count": 7,
   "metadata": {},
   "outputs": [],
   "source": [
    "fig, _ = visualize_runtime(df.query(\"`Model ID`.str.contains('gemma')\"))\n",
    "fig.savefig(\"imgs/runtime_scatter_g3_by_frames.pdf\", bbox_inches=\"tight\")"
   ]
  },
  {
   "cell_type": "code",
   "execution_count": 8,
   "metadata": {},
   "outputs": [],
   "source": [
    "fig, _ = visualize_runtime(df.query(\"`Model ID`.str.contains('Qwen')\"), hue=\"Model ID\", plot_colorbar=False)\n",
    "fig.savefig(\"imgs/runtime_scatter_qwenvl_by_model.pdf\", bbox_inches=\"tight\")"
   ]
  },
  {
   "cell_type": "code",
   "execution_count": 9,
   "metadata": {},
   "outputs": [],
   "source": [
    "fig, _ = visualize_runtime(df.query(\"`Model ID`.str.contains('Qwen')\"))\n",
    "fig.savefig(\"imgs/runtime_scatter_qwenvl_by_frames.pdf\", bbox_inches=\"tight\")"
   ]
  },
  {
   "cell_type": "code",
   "execution_count": null,
   "metadata": {},
   "outputs": [],
   "source": [
    "df.query(\"`Model ID`.str.contains('gemini')\")[\"Total_Runtime\"].describe()"
   ]
  },
  {
   "cell_type": "code",
   "execution_count": null,
   "metadata": {},
   "outputs": [],
   "source": []
  }
 ],
 "metadata": {
  "kernelspec": {
   "display_name": "venv",
   "language": "python",
   "name": "python3"
  },
  "language_info": {
   "codemirror_mode": {
    "name": "ipython",
    "version": 3
   },
   "file_extension": ".py",
   "mimetype": "text/x-python",
   "name": "python",
   "nbconvert_exporter": "python",
   "pygments_lexer": "ipython3",
   "version": "3.11.9"
  }
 },
 "nbformat": 4,
 "nbformat_minor": 2
}
